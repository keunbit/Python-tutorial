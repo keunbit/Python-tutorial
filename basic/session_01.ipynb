{
 "cells": [
  {
   "cell_type": "markdown",
   "metadata": {},
   "source": [
    "# 파이썬 기초 1\n",
    "### 여기서 다룰 내용\n",
    "    1. 자료형\n",
    "    2. 변수\n",
    "    3. 형 변환\n",
    "    4. 연산자\n",
    "    5. 인덱스와 슬라이싱\n",
    "    6. 문자열 처리\n",
    "    7. 문자열 메소드 (Method)\n",
    "    8. 문자열 출력\n",
    "    9. escape 문자"
   ]
  },
  {
   "cell_type": "markdown",
   "metadata": {},
   "source": [
    "### 1. 자료형\n",
    "- 문자 (String)\n",
    "- 숫자 (Int, Float)\n",
    "- 불리안 (Boolean)"
   ]
  },
  {
   "cell_type": "markdown",
   "metadata": {},
   "source": [
    "##### 문자 (String)\n",
    "- 문자열은 작은 따옴표(')나 큰 따옴표(\")로 감싸서 표현한다."
   ]
  },
  {
   "cell_type": "code",
   "execution_count": null,
   "metadata": {},
   "outputs": [],
   "source": [
    "print(\"이런 것들\")\n",
    "print('이런 것들')"
   ]
  },
  {
   "cell_type": "markdown",
   "metadata": {},
   "source": [
    "##### 숫자 자료형 (Int, Float)\n",
    "- 정수형 (Int) : 정수를 표현하는 자료형\n",
    "- 실수형 (Float) : 소수점이 포함된 숫자를 표현하는 자료형"
   ]
  },
  {
   "cell_type": "code",
   "execution_count": null,
   "metadata": {},
   "outputs": [],
   "source": [
    "print(1, 0, -500, 3.19)"
   ]
  },
  {
   "cell_type": "markdown",
   "metadata": {},
   "source": [
    "##### 불리안 (Boolean)\n",
    "- 참(True)과 거짓(False)을 나타내는 자료형\n",
    "- 주로 조건문과 반복문에서 사용된다."
   ]
  },
  {
   "cell_type": "code",
   "execution_count": null,
   "metadata": {},
   "outputs": [],
   "source": [
    "print(True, False)"
   ]
  },
  {
   "cell_type": "markdown",
   "metadata": {},
   "source": [
    "### 2. 변수 (Variable)\n",
    "- 변수는 값을 저장하는 공간이다.\n",
    "- 변수에 값을 저장할 때는 '='을 사용한다.\n",
    "- 네이밍 (snake_case, camelCase, PascalCase)\n",
    "  - snake_case : 변수명을 모두 소문자로 표현하고, 단어 사이에 '_'를 사용한다.\n",
    "  - camelCase : 변수명을 첫 단어를 제외한 나머지 단어의 첫 글자를 대문자로 표현한다.\n",
    "  - PascalCase : 변수명을 모든 단어의 첫 글자를 대문자로 표현한다.\n",
    "- 변수 선언 규칙\n",
    "  - 변수명은 숫자로 시작할 수 없다.\n",
    "  - 변수명은 특수문자를 사용할 수 없다.\n",
    "  - 변수명은 예약어를 사용할 수 없다.\n",
    "  - 변수명은 공백을 사용할 수 없다."
   ]
  },
  {
   "cell_type": "markdown",
   "metadata": {},
   "source": [
    "##### 변수 선언 방법\n",
    "- `snake_case` 사용을 권장 "
   ]
  },
  {
   "cell_type": "code",
   "execution_count": null,
   "metadata": {},
   "outputs": [],
   "source": [
    "x = 1000\n",
    "y = 2000\n",
    "z = 3000\n",
    "\n",
    "print(x, y, z)\n",
    "\n",
    "# snake_case\n",
    "programming_language = \"Python\"\n",
    "# camelCase\n",
    "programmingLanguage = \"Python\"\n",
    "# PascalCase\n",
    "ProgrammingLanguage = \"Python\"\n",
    "\n",
    "print(programming_language, programmingLanguage, ProgrammingLanguage)"
   ]
  },
  {
   "cell_type": "markdown",
   "metadata": {},
   "source": [
    "##### 변수 선언 불가능한 경우"
   ]
  },
  {
   "cell_type": "code",
   "execution_count": null,
   "metadata": {},
   "outputs": [],
   "source": [
    "1programming_language = 'Python' # 숫자로 시작\n",
    "@programming_language = 'Python' # 특수문자 사용\n",
    "if = 'Python' # 예약어 사용\n",
    "programming language = 'Python' # 공백 사용"
   ]
  },
  {
   "cell_type": "markdown",
   "metadata": {},
   "source": [
    "### 3. 형 변환 (Type Conversion)\n",
    "- 자료형을 변환하는 방법\n",
    "- 형 변환 함수\n",
    "  - int() : 정수형으로 변환\n",
    "  - float() : 실수형으로 변환\n",
    "  - str() : 문자열로 변환\n",
    "  - bool() : 불리안으로 변환\n",
    "- 형 변환 규칙\n",
    "  - 문자열을 숫자로 변환할 때는 숫자로만 구성된 문자열만 가능하다.\n",
    "  - 숫자를 문자열로 변환할 때는 모든 숫자가 문자열로 변환된다."
   ]
  },
  {
   "cell_type": "markdown",
   "metadata": {},
   "source": [
    "##### int(), float(), str(), bool() 함수 사용"
   ]
  },
  {
   "cell_type": "code",
   "execution_count": null,
   "metadata": {},
   "outputs": [],
   "source": [
    "# 정수로\n",
    "int('2')\n",
    "\n",
    "# 실수로 int('3.14')는 에러\n",
    "float('3.14')\n",
    "\n",
    "# 문자로\n",
    "str(3.14)\n",
    "\n",
    "# 불리언으로\n",
    "a = 1\n",
    "b = 0\n",
    "c = 3.14\n",
    "d = 'Python'\n",
    "print(bool(a))\n",
    "print(bool(b))\n",
    "print(bool(c))\n",
    "print(bool(d))"
   ]
  },
  {
   "cell_type": "markdown",
   "metadata": {},
   "source": [
    "### 4. 연산자 (Operator)\n",
    "- 산술 연산자\n",
    "  - 덧셈(+), 뺄셈(-), 곱셈(*), 나눗셈(/), 몫(//), 나머지(%), 제곱(**)\n",
    "- 비교 연산자\n",
    "  - 같다(==), 같지 않다(!=), 크다(>), 작다(<), 크거나 같다(>=), 작거나 같다(<=)\n",
    "- 논리 연산자\n",
    "  - and, or, not\n",
    "- 멤버 연산자\n",
    "  - in, not in"
   ]
  },
  {
   "cell_type": "code",
   "execution_count": null,
   "metadata": {},
   "outputs": [],
   "source": [
    "# 산술 연산자\n",
    "x = 10\n",
    "y = 3\n",
    "print(\"덧셈 10 + 3\", x + y)\n",
    "print(\"뺄셈 10 - 3\", x - y)\n",
    "print(\"곱셈 10 * 3\", x * y)\n",
    "print(\"나눗셈 10 / 3\", x / y)\n",
    "print(\"나머지 10 % 3\", x % y)\n",
    "print(\"몫 10 // 3\", x // y)\n",
    "print(\"제곱 10 ** 3\", x ** y)"
   ]
  },
  {
   "cell_type": "markdown",
   "metadata": {},
   "source": [
    "### 5. 인덱스와 슬라이싱\n",
    "- 인덱스\n",
    "  - 문자열의 각 문자는 순서가 있는데, 이 순서를 인덱스라고 한다.\n",
    "  - 인덱스는 0부터 시작한다.\n",
    "- 슬라이싱\n",
    "  - 문자열에서 특정 문자열을 추출하는 방법이다.\n",
    "  - 문자열[시작 인덱스:끝 인덱스:간격]"
   ]
  },
  {
   "cell_type": "code",
   "execution_count": null,
   "metadata": {},
   "outputs": [],
   "source": [
    "#   \"PYTHON\"\n",
    "# - 양수:  0  1  2  3  4  5\n",
    "# - 음수: -6 -5 -4 -3 -2 -1\n",
    "\n",
    "# 슬라이싱\n",
    "lang = \"Python\"\n",
    "print(lang[0:2])\n",
    "\n",
    "# 인덱스 1부터 끝까지\n",
    "print(lang[1:])"
   ]
  },
  {
   "cell_type": "markdown",
   "metadata": {},
   "source": [
    "### 6. 문자열 처리"
   ]
  },
  {
   "cell_type": "code",
   "execution_count": null,
   "metadata": {},
   "outputs": [],
   "source": [
    "one = \"1\"\n",
    "two = \"2\"\n",
    "three = one + two\n",
    "three = three + \"입니다\"\n",
    "three += \"입니다\"\n",
    "\n",
    "# 숫자\n",
    "num = 3\n",
    "num = num + 2\n",
    "num += 2\n",
    "num -= 1\n",
    "num *= 2\n",
    "num /= 4\n",
    "\n",
    "# 길이 (len(): 내장함수)\n",
    "lang = \"Python\"\n",
    "print(len(lang))"
   ]
  },
  {
   "cell_type": "markdown",
   "metadata": {},
   "source": [
    "### 7. 문자열 메소드 (Method)\n",
    "- 문자열 메소드는 문자열을 처리하는 함수이다.\n",
    "- 문자열.메소드() 형태로 사용한다."
   ]
  },
  {
   "cell_type": "markdown",
   "metadata": {},
   "source": [
    "##### 문자열 메소드 1"
   ]
  },
  {
   "cell_type": "code",
   "execution_count": null,
   "metadata": {},
   "outputs": [],
   "source": [
    "letter = \"how are YOU\"\n",
    "print(letter.lower())\n",
    "print(letter.upper())\n",
    "print(letter.capitalize())\n",
    "print(letter.title())\n",
    "print(letter.swapcase())\n",
    "print(letter.split())\n",
    "print(letter.count('how'))"
   ]
  },
  {
   "cell_type": "markdown",
   "metadata": {},
   "source": [
    "##### 문자열 메소드 2"
   ]
  },
  {
   "cell_type": "code",
   "execution_count": null,
   "metadata": {},
   "outputs": [],
   "source": [
    "sentence = \"고려대학교\"\n",
    "# \"고려\"로 시작하는지?\n",
    "print(sentence.startswith(\"고려\"))\n",
    "# \"대학교\"로 끝나는지?\n",
    "print(sentence.endswith(\"대학교\"))\n",
    "# 앞뒤로 불필요한 부분 제거\n",
    "sentence = \"...고려대학교...\"\n",
    "print(sentence.strip(\".\"))\n",
    "\n",
    "# \"학교\"를 \"일반대학원\"으로 바꾸려면\n",
    "sentence = \"고려대학교\"\n",
    "print(sentence.replace(\"학교\",\"일반대학원\"))\n",
    "\n",
    "# 특정 글자 위치 반환\n",
    "print(sentence.find('학교'))\n",
    "\n",
    "# 특정 문자 사이 가운데로\n",
    "print(sentence.center(10, \"-\"))"
   ]
  },
  {
   "cell_type": "markdown",
   "metadata": {},
   "source": [
    "### 8. 문자열 출력\n",
    "- print() 함수를 사용하여 문자열을 출력한다.\n",
    "- f-string : 문자열 앞에 f를 붙여 사용한다.\n",
    "- format() 함수 : 문자열 포맷팅을 위해 사용한다.\n",
    "- % 연산자 : 문자열 포맷팅을 위해 사용한다."
   ]
  },
  {
   "cell_type": "code",
   "execution_count": null,
   "metadata": {},
   "outputs": [],
   "source": [
    "# 둘다 출력 하려면?\n",
    "python = \"파이썬\"\n",
    "java = \"자바\"\n",
    "\n",
    "print(python + \" \" + java)\n",
    "print(python, java)\n",
    "\n",
    "# 다른 문장 속에 넣으려면?\n",
    "# '개발 언어에는 파이썬, 자바 등이 있어요'\n",
    "print(\"개발 언어에는 \" + python + \", \" + java + \" 등이 있어요\")\n",
    "\n",
    "# 1. {} + format\n",
    "print(\"개발 언어에는 {}, {} 등이 있어요\".format(python, java))\n",
    "\n",
    "# 2. {N} + format N: 0, 1, 2, ...\n",
    "print(\"개발 언어에는 {0}, {1} 등이 있어요\".format(python, java))\n",
    "\n",
    "# 3. f-string python 3.6 이상\n",
    "print(f\"개발 언어에는 {python}, {java} 등이 있어요\")\n",
    "\n",
    "# 4. % 연산자\n",
    "print(\"개발 언어에는 %s, %s 등이 있어요\" % (python, java))"
   ]
  },
  {
   "cell_type": "markdown",
   "metadata": {},
   "source": [
    "### 9. escape 문자\n",
    "- 역슬래시(\\)와 특정 문자(숫자)의 조합으로 표현할 수 없는 기능이나 문자를 표현하기 위해 사용한다.\n",
    "- \\n : 줄바꿈\n",
    "- \\t : 탭\n",
    "- \\\\ : 역슬래시"
   ]
  },
  {
   "cell_type": "code",
   "execution_count": null,
   "metadata": {},
   "outputs": [],
   "source": [
    "# 친구가 \"파이썬 배우기 쉬워?\" 라고 물었다.   -> 출력하려면?\n",
    "print(\"친구가 \"파이썬 배우기 쉬워?\" 라고 물었다\") -> 틀림\n",
    "\n",
    "# 역슬래시\n",
    "print(\"친구가 \\\"파이썬 배우기 쉬워?\\\" 라고 물었다\")\n",
    "\n",
    "# 그럼 역슬래시를 표기하려면? -> \\\\\n",
    "# 윈도우에서 어떤 폴더의 경로는 이렇게 생겼다. -> C:\\Users\\Programming\n",
    "print(\"C:\\Users\\Programming\")\n",
    "print(\"C:\\\\Users\\\\Programming\")\n",
    "\n",
    "# 줄바꿈 -> \\n\n",
    "sentence = \"\"\"파이썬은\n",
    "너무\n",
    "쉬워요\"\"\"\n",
    "print(\"파이썬은\\n너무\\n쉬워요\")"
   ]
  }
 ],
 "metadata": {
  "kernelspec": {
   "display_name": "py_tuto",
   "language": "python",
   "name": "python3"
  },
  "language_info": {
   "codemirror_mode": {
    "name": "ipython",
    "version": 3
   },
   "file_extension": ".py",
   "mimetype": "text/x-python",
   "name": "python",
   "nbconvert_exporter": "python",
   "pygments_lexer": "ipython3",
   "version": "3.11.9"
  }
 },
 "nbformat": 4,
 "nbformat_minor": 2
}
