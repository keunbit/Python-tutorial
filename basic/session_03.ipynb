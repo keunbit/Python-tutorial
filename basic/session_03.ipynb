{
 "cells": [
  {
   "cell_type": "markdown",
   "metadata": {},
   "source": [
    "# 파이썬 기초 3\n",
    "### 여기서 다룰 내용\n",
    "    1. 조건문\n",
    "    2. 반복문\n",
    "       1. for 반복문\n",
    "       2. while 반복문\n",
    "       3. break, continue\n",
    "    3. 함수\n",
    "       1. 전달값\n",
    "       2. 반환값 \n",
    "    4. 파일입출력\n",
    "       1. with open"
   ]
  },
  {
   "cell_type": "markdown",
   "metadata": {},
   "source": [
    "### 1. 조건문\n",
    "- if, elif, else\n",
    "- 비교연산자 : ==, !=, >, <, >=, <="
   ]
  },
  {
   "cell_type": "code",
   "execution_count": null,
   "metadata": {},
   "outputs": [],
   "source": [
    "condition = True\n",
    "sentence_A = \"A 문장을 출력합니다.\"\n",
    "sentence_B = \"B 문장을 출력합니다.\"\n",
    "\n",
    "if condition:\n",
    "    print(sentence_A)\n",
    "else:\n",
    "    print(sentence_B)"
   ]
  },
  {
   "cell_type": "code",
   "execution_count": null,
   "metadata": {},
   "outputs": [],
   "source": [
    "condition_1 = False\n",
    "condition_2 = True\n",
    "\n",
    "sentence_A = \"A 문장을 출력합니다.\"\n",
    "sentence_B = \"B 문장을 출력합니다.\"\n",
    "sentence_C = \"C 문장을 출력합니다.\"\n",
    "\n",
    "if condition_1:\n",
    "    print(sentence_A)\n",
    "elif condition_2:\n",
    "    print(sentence_B)\n",
    "else:\n",
    "    print(sentence_C)"
   ]
  },
  {
   "cell_type": "code",
   "execution_count": null,
   "metadata": {},
   "outputs": [],
   "source": [
    "yellow_card = 0\n",
    "foul = False\n",
    "\n",
    "if foul:\n",
    "    yellow_card += 1\n",
    "    print(\"경고를 받았습니다.\")\n",
    "    if yellow_card == 2:\n",
    "        print(\"퇴장입니다.\")\n",
    "    else:\n",
    "        print('조심 조심')\n",
    "else:\n",
    "    print('단순 주의 경고')"
   ]
  },
  {
   "cell_type": "markdown",
   "metadata": {},
   "source": [
    "### 2. 반복문\n",
    "##### for 문"
   ]
  },
  {
   "cell_type": "code",
   "execution_count": null,
   "metadata": {},
   "outputs": [],
   "source": [
    "# for 변수 in 반복 범위 또는 대상:\n",
    "#     반복 수행 문장\n",
    "\n",
    "# 10번 반복 수행\n",
    "for _ in range(10):\n",
    "    print('수행')"
   ]
  },
  {
   "cell_type": "code",
   "execution_count": null,
   "metadata": {},
   "outputs": [],
   "source": [
    "# 10번 반복 수행\n",
    "for n in range(10):\n",
    "    print(f\"수행 {n}회\")"
   ]
  },
  {
   "cell_type": "markdown",
   "metadata": {},
   "source": [
    "- range(10)\n",
    "  - 0이상 10 미만 (0~9)"
   ]
  },
  {
   "cell_type": "code",
   "execution_count": null,
   "metadata": {},
   "outputs": [],
   "source": [
    "for n in range(1, 11):\n",
    "    print(f\"수행 {n}회\")"
   ]
  },
  {
   "cell_type": "code",
   "execution_count": null,
   "metadata": {},
   "outputs": [],
   "source": [
    "# step - 숫자마다 step 만큼 증가\n",
    "for n in range(1, 11, 2):\n",
    "    print(f\"수행 {n}회\")"
   ]
  },
  {
   "cell_type": "code",
   "execution_count": null,
   "metadata": {},
   "outputs": [],
   "source": [
    "# 리스트나 튜플을 이용한 반복\n",
    "my_list = [1,2,3]\n",
    "for x in my_list:\n",
    "    print(x)"
   ]
  },
  {
   "cell_type": "code",
   "execution_count": null,
   "metadata": {},
   "outputs": [],
   "source": [
    "my_tuple = (1,2,3)\n",
    "for x in my_tuple:\n",
    "    print(x)"
   ]
  },
  {
   "cell_type": "code",
   "execution_count": null,
   "metadata": {},
   "outputs": [],
   "source": [
    "# 딕셔너리를 이용한 반복\n",
    "me = {\n",
    "    \"name\": \"대환\",\n",
    "    \"email\": \"eoghks319@gmail.com\",\n",
    "    \"age\": 31,\n",
    "}\n",
    "\n",
    "print('---------value--------')\n",
    "for v in me.values():\n",
    "    print(v)\n",
    "print('----------key----------')\n",
    "for k in me.keys():\n",
    "    print(k)\n",
    "print('---------key, value--------')\n",
    "for k, v in me.items():\n",
    "    print(k, v)\n"
   ]
  },
  {
   "cell_type": "markdown",
   "metadata": {},
   "source": [
    "##### while\n",
    "- 조건이 참인 동안 계속해서 반복하는 것.\n",
    "- 예시) 캐리어에 짐을 넣는다고 가정하고, 캐리어가 꽉 차면 반복을 멈추는 것."
   ]
  },
  {
   "cell_type": "code",
   "execution_count": null,
   "metadata": {},
   "outputs": [],
   "source": [
    "# while 조건:\n",
    "#    반복 수행 문장\n",
    "\n",
    "max = 25 # 최대 허용 무게\n",
    "weight = 0 # 현재 무게\n",
    "item = 3 # 각 짐의 무게\n",
    "\n",
    "while weight + item <= max:\n",
    "    weight += item\n",
    "    print(f\"짐을 추가합니다. 현재 무게: {weight}\")\n",
    "    "
   ]
  },
  {
   "cell_type": "markdown",
   "metadata": {},
   "source": [
    "##### break\n",
    "- 수행중인 반복을 멈추고, 반복문을 탈출"
   ]
  },
  {
   "cell_type": "code",
   "execution_count": null,
   "metadata": {},
   "outputs": [],
   "source": [
    "animations = ['시즌1', '시즌2', '시즌3', '시즌4', '시즌5']\n",
    "\n",
    "for s in animations:\n",
    "    if s == '시즌3':\n",
    "        print('노잼, 그만 보자')\n",
    "        break\n",
    "    print(f\"{s} 시청\")"
   ]
  },
  {
   "cell_type": "markdown",
   "metadata": {},
   "source": [
    "##### continue\n",
    "- 반복문에서 특정 조건에서 동작을 건너뛰고 싶을 때"
   ]
  },
  {
   "cell_type": "code",
   "execution_count": null,
   "metadata": {},
   "outputs": [],
   "source": [
    "animations = ['시즌1', '시즌2', '시즌3', '시즌4', '시즌5']\n",
    "\n",
    "for s in animations:\n",
    "    if s == '시즌3':\n",
    "        print('노잼, 건너뛰자')\n",
    "        continue\n",
    "    print(f\"{s} 시청\")\n"
   ]
  },
  {
   "cell_type": "markdown",
   "metadata": {},
   "source": [
    "### 들여쓰기 (Indent)\n",
    "- 파이썬은 들여쓰기로 코드의 블록을 구분한다.\n",
    "- 탭과 공백을 섞어 쓰지 않도록 주의해야 한다.\n",
    "- 공백 4개를 권장한다.\n",
    "- 들여쓰기가 잘못되면 에러가 발생한다.\n",
    "- 동일한 선상에 있는 코드는 동일한 블록에 속한다."
   ]
  },
  {
   "cell_type": "markdown",
   "metadata": {},
   "source": [
    "### 3. 함수\n",
    "- 어떤 동작을 수행하는 코드들의 묶음\n",
    "- 여러 곳에서 사용되는 코드는 하나의 함수로 관리하는게 좋다."
   ]
  },
  {
   "cell_type": "code",
   "execution_count": null,
   "metadata": {},
   "outputs": [],
   "source": [
    "# 함수는 언제 쓸까?\n",
    "print('안녕하세요~ 저는 KB국민은행을 다니고 있는 김대환 입니다.')\n",
    "print('안녕하세요~ 저는 KB국민은행을 다니고 있는 김대환 입니다.')\n",
    "print('안녕하세요~ 저는 KB국민은행을 다니고 있는 김대환 입니다.')"
   ]
  },
  {
   "cell_type": "code",
   "execution_count": null,
   "metadata": {},
   "outputs": [],
   "source": [
    "# 긴 print() 문구를 greeting 이라는 단어로 축약한 것\n",
    "def greeting():\n",
    "    print('안녕하세요~ 저는 KB국민은행을 다니고 있는 김대환 입니다.')"
   ]
  },
  {
   "cell_type": "code",
   "execution_count": null,
   "metadata": {},
   "outputs": [],
   "source": [
    "greeting()"
   ]
  },
  {
   "cell_type": "markdown",
   "metadata": {},
   "source": [
    "##### 전달값\n",
    "- 여러 개 사용 가능하다. (콤마로 구분)\n",
    "- 함수 내에서만 사용된다."
   ]
  },
  {
   "cell_type": "code",
   "execution_count": null,
   "metadata": {},
   "outputs": [],
   "source": [
    "# 100명의 고객에게 마케팅 문구를 보내고 싶은데,...\n",
    "\n",
    "print(\"안녕하세요. 변하진 고객님 ^^. 이번에 ~~~~ 상품 소개드리고자 연락드렸습니다. ~~~~~\")\n",
    "print(\"안녕하세요. 이민서 고객님 ^^. 이번에 ~~~~ 상품 소개드리고자 연락드렸습니다. ~~~~~\")\n"
   ]
  },
  {
   "cell_type": "code",
   "execution_count": null,
   "metadata": {},
   "outputs": [],
   "source": [
    "def send_message(name):\n",
    "    print(f\"안녕하세요. {name} 고객님 ^^. 이번에 ~~~~ 상품 소개드리고자 연락드렸습니다. ~~~~~\")"
   ]
  },
  {
   "cell_type": "code",
   "execution_count": null,
   "metadata": {},
   "outputs": [],
   "source": [
    "send_message('변하진')"
   ]
  },
  {
   "cell_type": "markdown",
   "metadata": {},
   "source": [
    "##### 반환값\n",
    "- 함수 내에서 처리된 결과를 반환\n",
    "- return 을 사용한다"
   ]
  },
  {
   "cell_type": "code",
   "execution_count": null,
   "metadata": {},
   "outputs": [],
   "source": [
    "# 더하기 함수를 만들고, 그 결과를 반환하려고 할 때\n",
    "def sum(a,b):\n",
    "    return a+b\n",
    "\n",
    "c = sum(1,2)\n",
    "print(c)"
   ]
  },
  {
   "cell_type": "markdown",
   "metadata": {},
   "source": [
    "##### 기본값\n",
    "- 기본적으로 사용되는 값 (default)"
   ]
  },
  {
   "cell_type": "code",
   "execution_count": null,
   "metadata": {},
   "outputs": [],
   "source": [
    "# 짜장면만 판매하는 집에서 주문이 들어 올 때\n",
    "def get_order(num, food):\n",
    "    print(f'{food} {num}그릇 이요~' )\n",
    "\n",
    "get_order(2, '짜장면')\n",
    "get_order(4, '짜장면')"
   ]
  },
  {
   "cell_type": "code",
   "execution_count": null,
   "metadata": {},
   "outputs": [],
   "source": [
    "# 기본값을 '짜장면'으로 설정\n",
    "def get_order(num, food='짜장면'):\n",
    "    print(f'{food} {num}그릇 이요~')\n",
    "    \n",
    "get_order(2)\n",
    "get_order(4)\n",
    "\n",
    "# 근데 짬뽕 메뉴가 추가 됐다.\n",
    "get_order(2, food=\"짬뽕\")"
   ]
  },
  {
   "cell_type": "markdown",
   "metadata": {},
   "source": [
    "##### 지역변수\n",
    "- 함수 내에서 정의된 변수\n",
    "- 함수 내에서만 사용 가능"
   ]
  },
  {
   "cell_type": "code",
   "execution_count": null,
   "metadata": {},
   "outputs": [],
   "source": [
    "# 함수 내에서만 사용 가능하다\n",
    "print(name)"
   ]
  },
  {
   "cell_type": "markdown",
   "metadata": {},
   "source": [
    "### 파일 입출력\n",
    "- open(파일명, 열기 모드, encoding='인코딩')\n",
    "- 열기모드\n",
    "  - r: read (읽기)\n",
    "  - a: append (이어서 쓰기)\n",
    "  - w: write (쓰기)"
   ]
  },
  {
   "cell_type": "code",
   "execution_count": null,
   "metadata": {},
   "outputs": [],
   "source": [
    "# 쓰기 모드로 파일 열기\n",
    "f = open('test.txt', 'w', encoding='utf-8')\n",
    "f.write('이것은\\n')\n",
    "f.write('파일쓰기\\n')\n",
    "f.write('테스트 입니다.\\n')\n",
    "# 파일 닫기 \n",
    "f.close()"
   ]
  },
  {
   "cell_type": "code",
   "execution_count": null,
   "metadata": {},
   "outputs": [],
   "source": [
    "f = open('test.txt', 'r', encoding='utf-8')\n",
    "contents = f.read()\n",
    "f.close()\n",
    "print(contents)"
   ]
  },
  {
   "cell_type": "code",
   "execution_count": null,
   "metadata": {},
   "outputs": [],
   "source": [
    "f = open('test.txt', 'r', encoding='utf-8')\n",
    "for line in f:\n",
    "    print(line)\n",
    "f.close()"
   ]
  },
  {
   "cell_type": "markdown",
   "metadata": {},
   "source": [
    "##### with\n",
    "- 블록을 벗어나면 자동으로 파일을 닫는다."
   ]
  },
  {
   "cell_type": "code",
   "execution_count": null,
   "metadata": {},
   "outputs": [],
   "source": [
    "f = open('test.txt', 'r', encoding='utf-8')\n",
    "for line in f:\n",
    "    print(line)\n",
    "f.close()\n",
    "\n",
    "print('------------구분선------------')\n",
    "\n",
    "with open('test.txt', 'r', encoding='utf-8') as f:\n",
    "    for line in f:\n",
    "        print(line)\n"
   ]
  },
  {
   "cell_type": "code",
   "execution_count": null,
   "metadata": {},
   "outputs": [],
   "source": []
  }
 ],
 "metadata": {
  "kernelspec": {
   "display_name": "py_tuto",
   "language": "python",
   "name": "python3"
  },
  "language_info": {
   "codemirror_mode": {
    "name": "ipython",
    "version": 3
   },
   "file_extension": ".py",
   "mimetype": "text/x-python",
   "name": "python",
   "nbconvert_exporter": "python",
   "pygments_lexer": "ipython3",
   "version": "3.11.9"
  }
 },
 "nbformat": 4,
 "nbformat_minor": 2
}
