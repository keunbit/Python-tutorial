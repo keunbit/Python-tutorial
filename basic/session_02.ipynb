{
 "cells": [
  {
   "cell_type": "markdown",
   "metadata": {},
   "source": [
    "# 파이썬 기초 2\n",
    "### 여기서 다룰 내용\n",
    "    1. 리스트\n",
    "    2. 튜플\n",
    "    3. 세트\n",
    "    4. 딕셔너리\n",
    "    5. 자료형 비교\n",
    "    6. 자료형 변환\n",
    "    7. 조건문\n",
    "    8. 반복문\n",
    "    9. 함수"
   ]
  },
  {
   "cell_type": "markdown",
   "metadata": {},
   "source": [
    "### 1. 리스트\n",
    "- 리스트는 여러 개의 데이터를 하나로 묶어서 처리할 수 있게 해주는 자료형이다.\n",
    "- 리스트는 대괄호([])로 감싸주고 각 요소값은 쉼표(,)로 구분한다.\n",
    "- 리스트의 요소값은 숫자, 문자열, 리스트 등 다양한 자료형이 될 수 있다.\n",
    "- 메소드\n",
    "  - append() : 리스트의 맨 마지막에 요소를 추가한다.\n",
    "  - index() : 리스트의 요소값의 위치를 반환한다.\n",
    "  - remove() : 리스트의 요소를 삭제한다.\n",
    "  - sort() : 리스트의 요소를 순서대로 정렬한다.\n",
    "  - reverse() : 리스트의 요소를 역순으로 뒤집는다.\n",
    "  - insert() : 리스트의 특정 위치에 요소를 삽입한다.\n",
    "  - pop() : 리스트의 맨 마지막 요소를 꺼내고 삭제한다.\n",
    "  - count() : 리스트의 요소값의 개수를 반환한다.\n",
    "  - clear() : 리스트의 모든 요소를 삭제한다."
   ]
  },
  {
   "cell_type": "code",
   "execution_count": null,
   "metadata": {},
   "outputs": [],
   "source": [
    "# 순서 보장!!!\n",
    "my_languages = [\"python\", \"java\", \"javascript\", \"react\"]\n",
    "all_list = [1, 2, 3, True, False, \"아무거나\"]\n",
    "empty_list = []\n",
    "\n",
    "# 순서가 있다!\n",
    "print(my_languages[0])\n",
    "\n",
    "# 어디부터 어디까지?\n",
    "print(my_languages[0:2])\n",
    "\n",
    "# 리스트에 포함되어 있는지?\n",
    "print(\"python\" in my_languages)\n",
    "\n",
    "# 리스트 수정\n",
    "my_languages[2] = \"R\"\n",
    "print(my_languages)\n",
    "\n",
    "# 리스트 데이터 추가\n",
    "my_languages.append(\"nextjs\")\n",
    "print(my_languages)\n",
    "\n",
    "# 리스트 데이터 삭제\n",
    "my_languages.remove(\"java\")\n",
    "print(my_languages)"
   ]
  },
  {
   "cell_type": "markdown",
   "metadata": {},
   "source": [
    "### 2. 튜플\n",
    "- 튜플은 리스트와 비슷하지만 한 번 선언된 요소값은 변경할 수 없다.\n",
    "- 튜플은 소괄호(())로 감싸주고 각 요소값은 쉼표(,)로 구분한다.\n",
    "- 튜플은 리스트보다 메모리를 적게 사용한다.\n",
    "- `읽기 전용 리스트`라고 생각하면 된다."
   ]
  },
  {
   "cell_type": "code",
   "execution_count": null,
   "metadata": {},
   "outputs": [],
   "source": [
    "my_tuple = ('item1', 'item2', 'item3') # 패킹\n",
    "(x, y, z) = my_tuple # 언패킹\n",
    "\n",
    "print(x,y,z)"
   ]
  },
  {
   "cell_type": "code",
   "execution_count": null,
   "metadata": {},
   "outputs": [],
   "source": [
    "numbers = (1, 2, 3, 4, 5, 6, 7, 8, 9, 10)\n",
    "(one, two, *others) = numbers\n",
    "print(others)\n",
    "\n",
    "(*others, nine, ten) = numbers\n",
    "print(others)"
   ]
  },
  {
   "cell_type": "code",
   "execution_count": null,
   "metadata": {},
   "outputs": [],
   "source": [
    "# 원하는 위치의 값에 접근할 수 있고 -> 순서 또한 보장!\n",
    "print(my_tuple[0])\n",
    "\n",
    "# 슬라이싱을 통해서 원하는 만큼만\n",
    "print(my_tuple[0:2])"
   ]
  },
  {
   "cell_type": "code",
   "execution_count": null,
   "metadata": {},
   "outputs": [],
   "source": [
    "# 길이 확인도 가능\n",
    "print(len(my_tuple))"
   ]
  },
  {
   "cell_type": "code",
   "execution_count": null,
   "metadata": {},
   "outputs": [],
   "source": [
    "# 포함 여부도 in 키워드를 사용하면 된다.\n",
    "print(\"item1\" in my_tuple)"
   ]
  },
  {
   "cell_type": "markdown",
   "metadata": {},
   "source": [
    "### 세트\n",
    "- 세트는 집합을 의미하며 중복을 허용하지 않고 순서가 없다.\n",
    "  - 순서가 보장되지 않으므로 인덱스로 접근이 불가능하다.\n",
    "  - 읽기 전용은 아니므로 값을 추가할 수 있다.\n",
    "- 세트는 중괄호({})로 감싸주고 각 요소값은 쉼표(,)로 구분한다.\n",
    "- 세트는 집합 연산을 사용할 수 있다."
   ]
  },
  {
   "cell_type": "code",
   "execution_count": null,
   "metadata": {},
   "outputs": [],
   "source": [
    "A = {'item1', 'item2', 'item3'}\n",
    "B = {'item3', 'item4', 'item5'}"
   ]
  },
  {
   "cell_type": "code",
   "execution_count": null,
   "metadata": {},
   "outputs": [],
   "source": [
    "# 교집합\n",
    "print(A.intersection(B))"
   ]
  },
  {
   "cell_type": "code",
   "execution_count": null,
   "metadata": {},
   "outputs": [],
   "source": [
    "# 합집합 -> 순서를 보장하지 않기 때문에 결과도 다를 수 있다.\n",
    "print(A.union(B))"
   ]
  },
  {
   "cell_type": "code",
   "execution_count": null,
   "metadata": {},
   "outputs": [],
   "source": [
    "# 차집합 -> A에만 있는 것\n",
    "print(A.difference(B))"
   ]
  },
  {
   "cell_type": "markdown",
   "metadata": {},
   "source": [
    "##### 세트 메소드\n",
    "- add()\n",
    "- remove()\n",
    "- clear()\n"
   ]
  },
  {
   "cell_type": "markdown",
   "metadata": {},
   "source": [
    "### 딕셔너리\n",
    "- Key, Value로 이루어진 자료형이다.\n",
    "- 딕셔너리는 중괄호({})로 감싸주고 Key와 Value는 콜론(:)으로 구분하고 각 요소값은 쉼표(,)로 구분한다.\n",
    "- Key는 중복될 수 없다.\n",
    "- Value는 중복되어도 상관없다.\n",
    "- 딕셔너리는 순서가 없다. (파이썬 3.7부터는 순서가 보장된다.)"
   ]
  },
  {
   "cell_type": "code",
   "execution_count": null,
   "metadata": {},
   "outputs": [],
   "source": [
    "# 나에 대한 딕셔너리\n",
    "me = {\n",
    "    \"name\": \"대환\",\n",
    "    \"email\": \"eoghks319@gmail.com\",\n",
    "    \"age\": 31,\n",
    "}"
   ]
  },
  {
   "cell_type": "code",
   "execution_count": null,
   "metadata": {},
   "outputs": [],
   "source": [
    "# 키를 통해서 접근\n",
    "print(me.get(\"name\"))"
   ]
  },
  {
   "cell_type": "code",
   "execution_count": null,
   "metadata": {},
   "outputs": [],
   "source": [
    "# 딕셔너리에 값 추가\n",
    "me[\"address\"] = \"서울\"\n",
    "print(me)\n",
    "\n",
    "# 딕셔너리에 값 변경\n",
    "me[\"address\"] = \"조치원\""
   ]
  },
  {
   "cell_type": "code",
   "execution_count": null,
   "metadata": {},
   "outputs": [],
   "source": [
    "# 딕셔너리에 값 업데이트\n",
    "me.update({\"name\": \"김대환\", \"email\": \"eoghks319@naver.com\"})\n",
    "print(me)"
   ]
  },
  {
   "cell_type": "code",
   "execution_count": null,
   "metadata": {},
   "outputs": [],
   "source": [
    "# 딕셔너리에 값 삭제\n",
    "me.pop('age')\n",
    "print(me)"
   ]
  },
  {
   "cell_type": "code",
   "execution_count": null,
   "metadata": {},
   "outputs": [],
   "source": [
    "# 딕셔너리에 어떤 key들이 있는지?\n",
    "print(me.keys())\n",
    "\n",
    "# 딕셔너리에 어떤 value들이 있는지?\n",
    "print(me.values())\n",
    "\n",
    "# 딕셔너리에 key, value 쌍으로 가져오기\n",
    "print(me.items())"
   ]
  },
  {
   "cell_type": "code",
   "execution_count": null,
   "metadata": {},
   "outputs": [],
   "source": [
    "# 모든 데이터 삭제\n",
    "me.clear()"
   ]
  },
  {
   "cell_type": "markdown",
   "metadata": {},
   "source": [
    "### 그래서 각각 언제 사용?\n",
    "- 리스트: 여러 값들을 순서대로 관리해야 한다?\n",
    "- 튜플: 값이 바뀔 일이 없거나, 바뀌면 안된다? 프로그램 동작 중 실수로라도 값이 바뀔 수 있는 상황을 막으려면\n",
    "- 새트: 값의 존재 여부가 중요하다? 중복은 안된다?\n",
    "- 딕셔너리: Key를 통해서 효율적으로 데이터를 관리하고 싶다?"
   ]
  }
 ],
 "metadata": {
  "kernelspec": {
   "display_name": "py_tuto",
   "language": "python",
   "name": "python3"
  },
  "language_info": {
   "codemirror_mode": {
    "name": "ipython",
    "version": 3
   },
   "file_extension": ".py",
   "mimetype": "text/x-python",
   "name": "python",
   "nbconvert_exporter": "python",
   "pygments_lexer": "ipython3",
   "version": "3.11.9"
  }
 },
 "nbformat": 4,
 "nbformat_minor": 2
}
