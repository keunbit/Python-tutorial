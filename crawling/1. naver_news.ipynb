{
 "cells": [
  {
   "cell_type": "code",
   "execution_count": null,
   "metadata": {},
   "outputs": [],
   "source": [
    "import requests\n",
    "from bs4 import BeautifulSoup"
   ]
  },
  {
   "cell_type": "markdown",
   "metadata": {},
   "source": [
    "### 네이버 뉴스 검색 URL"
   ]
  },
  {
   "cell_type": "code",
   "execution_count": null,
   "metadata": {},
   "outputs": [],
   "source": [
    "url = \"https://search.naver.com/search.naver?where=news&query=ChatGPT&sm=tab_opt&sort=0&photo=0&field=0&pd=3&ds=2024.07.17&de=2024.07.18&docid=&related=0&mynews=0&office_type=0&office_section_code=0&news_office_checked=&nso=so%3Ar%2Cp%3Afrom20240717to20240718&is_sug_officeid=0&office_category=0&service_area=0\""
   ]
  },
  {
   "cell_type": "markdown",
   "metadata": {},
   "source": [
    "### HTTP GET 요청"
   ]
  },
  {
   "cell_type": "code",
   "execution_count": null,
   "metadata": {},
   "outputs": [],
   "source": [
    "response = requests.get(url)"
   ]
  },
  {
   "cell_type": "markdown",
   "metadata": {},
   "source": [
    "### 응답이 성공적으로 완료되었는지 확인"
   ]
  },
  {
   "cell_type": "code",
   "execution_count": null,
   "metadata": {},
   "outputs": [],
   "source": [
    "if response.status_code == 200:\n",
    "    # HTML 파싱\n",
    "    soup = BeautifulSoup(response.text, 'html.parser')\n",
    "\n",
    "    # 뉴스 기사 제목 추출\n",
    "    news_titles = soup.select('.news_tit')\n",
    "    for title in news_titles:\n",
    "        print(title.get_text())\n",
    "else:\n",
    "    print(\"Failed to retrieve the news\")"
   ]
  },
  {
   "cell_type": "markdown",
   "metadata": {},
   "source": [
    "### 제목, 스니펫, URL 가져오기"
   ]
  },
  {
   "cell_type": "code",
   "execution_count": null,
   "metadata": {},
   "outputs": [],
   "source": [
    "contents_list = soup.select('.news_contents')\n",
    "\n",
    "news_contents = []\n",
    "\n",
    "for content in contents_list:\n",
    "    title = content.select_one('.news_tit')\n",
    "    dsc = content.select_one('.news_dsc')\n",
    "    href = content.a['href']\n",
    "    \n",
    "    news_dict = {\n",
    "        \"title\": title.text,\n",
    "        \"dsc\": dsc.text,\n",
    "        \"href\": href\n",
    "    }\n",
    "    \n",
    "    news_contents.append(news_dict)"
   ]
  },
  {
   "cell_type": "code",
   "execution_count": null,
   "metadata": {},
   "outputs": [],
   "source": [
    "print(news_contents[0])"
   ]
  }
 ],
 "metadata": {
  "kernelspec": {
   "display_name": "py_tuto",
   "language": "python",
   "name": "python3"
  },
  "language_info": {
   "codemirror_mode": {
    "name": "ipython",
    "version": 3
   },
   "file_extension": ".py",
   "mimetype": "text/x-python",
   "name": "python",
   "nbconvert_exporter": "python",
   "pygments_lexer": "ipython3",
   "version": "3.11.9"
  }
 },
 "nbformat": 4,
 "nbformat_minor": 2
}
