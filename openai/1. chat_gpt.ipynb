{
 "cells": [
  {
   "cell_type": "code",
   "execution_count": null,
   "metadata": {},
   "outputs": [],
   "source": [
    "import os\n",
    "import requests\n",
    "\n",
    "from bs4 import BeautifulSoup\n",
    "from dotenv import load_dotenv\n",
    "from slack_sdk import WebClient\n",
    "from openai import OpenAI\n",
    "\n",
    "load_dotenv()"
   ]
  },
  {
   "cell_type": "markdown",
   "metadata": {},
   "source": [
    "### OpenAI API 사용해보기"
   ]
  },
  {
   "cell_type": "code",
   "execution_count": null,
   "metadata": {},
   "outputs": [],
   "source": [
    "def get_chatgpt_message(client, message):\n",
    "    response = client.chat.completions.create(\n",
    "        model=\"gpt-3.5-turbo\",\n",
    "        messages=[\n",
    "            {\"role\": \"system\", \"content\": \"You are a helpful assistant.\"},\n",
    "            {\"role\": \"user\", \"content\": message},\n",
    "        ],\n",
    "        temperature=0.3,\n",
    "    )\n",
    "    \n",
    "    output = response.choices[0].message.content\n",
    "    return output"
   ]
  },
  {
   "cell_type": "markdown",
   "metadata": {},
   "source": [
    "### Slack Message 함수"
   ]
  },
  {
   "cell_type": "code",
   "execution_count": null,
   "metadata": {},
   "outputs": [],
   "source": [
    "def send_slack_message(client, channel_id, message):\n",
    "    news_title = \"\"\n",
    "    for msg in message:\n",
    "        news_title += f\"{msg}\\n\"\n",
    "    \n",
    "    message_form = f\"\"\"\n",
    "    어제의 뉴스 chatGPT 관련 뉴스 입니다.\n",
    "    {news_title}\n",
    "    \"\"\"\n",
    "    client.chat_postMessage(channel=channel_id, text=message)\n",
    "    "
   ]
  },
  {
   "cell_type": "markdown",
   "metadata": {},
   "source": [
    "### 네이버 뉴스 ChatGPT 관련 뉴스"
   ]
  },
  {
   "cell_type": "code",
   "execution_count": null,
   "metadata": {},
   "outputs": [],
   "source": [
    "url = \"https://search.naver.com/search.naver?where=news&query=ChatGPT&sm=tab_opt&sort=0&photo=0&field=0&pd=3&ds=2024.07.17&de=2024.07.18&docid=&related=0&mynews=0&office_type=0&office_section_code=0&news_office_checked=&nso=so%3Ar%2Cp%3Afrom20240717to20240718&is_sug_officeid=0&office_category=0&service_area=0\"\n",
    "\n",
    "response = requests.get(url)\n",
    "soup = BeautifulSoup(response.text, 'html.parser')\n",
    "\n",
    "contents_list = soup.select('.news_contents')\n",
    "\n",
    "news_contents = []\n",
    "\n",
    "for content in contents_list:\n",
    "    title = content.select_one('.news_tit')\n",
    "    dsc = content.select_one('.news_dsc')\n",
    "    href = content.a['href']\n",
    "    \n",
    "    news_dict = {\n",
    "        \"title\": title.text,\n",
    "        \"dsc\": dsc.text,\n",
    "        \"href\": href\n",
    "    }\n",
    "    \n",
    "    news_contents.append(news_dict)"
   ]
  },
  {
   "cell_type": "code",
   "execution_count": null,
   "metadata": {},
   "outputs": [],
   "source": [
    "news_text = \"\"\n",
    "for content in news_contents:\n",
    "    news_text += f\"제목: {content['title']}\\n\"\n",
    "    news_text += f\"링크: {content['href']}\\n\"\n",
    "    news_text += f\"내용: {content['dsc']}\\n\"\n",
    "\n",
    "message_form = f\"\"\"\n",
    "어제의 뉴스 chatGPT 관련 뉴스 입니다.\n",
    "------------Top 10-------------\n",
    "{news_text}\n",
    "\"\"\"\n",
    "print(message_form)"
   ]
  },
  {
   "cell_type": "markdown",
   "metadata": {},
   "source": [
    "### ChatGPT 프롬프트 작성"
   ]
  },
  {
   "cell_type": "code",
   "execution_count": null,
   "metadata": {},
   "outputs": [],
   "source": [
    "openai_message = f\"\"\"\n",
    "아래 <뉴스 리스트>의 내용을 3줄로 요약해줘.\n",
    "\n",
    "<뉴스 리스트>\n",
    "{news_text}\n",
    "</뉴스 리스트>\n",
    "\"\"\"\n",
    "\n",
    "print(openai_message.strip())"
   ]
  },
  {
   "cell_type": "markdown",
   "metadata": {},
   "source": [
    "### GPT-3.5-turbo에 프롬프팅하기"
   ]
  },
  {
   "cell_type": "code",
   "execution_count": null,
   "metadata": {},
   "outputs": [],
   "source": [
    "openai_client = OpenAI(api_key=os.getenv('OPENAI_API_KEY'))\n",
    "\n",
    "gpt_summary = get_chatgpt_message(client=openai_client, message=openai_message)"
   ]
  },
  {
   "cell_type": "code",
   "execution_count": null,
   "metadata": {},
   "outputs": [],
   "source": [
    "print(gpt_summary)"
   ]
  },
  {
   "cell_type": "markdown",
   "metadata": {},
   "source": [
    "### Slack bot으로 보내기"
   ]
  },
  {
   "cell_type": "code",
   "execution_count": null,
   "metadata": {},
   "outputs": [],
   "source": [
    "slack_client = WebClient(token=os.getenv(\"SLACK_TOKEN\"))\n",
    "channel_id=\"C077GUCPK0B\"\n",
    "\n",
    "slack_message = f\"\"\"\n",
    "어제의 ChatGPT 관련 뉴스 3줄 요약 입니다!\n",
    "{gpt_summary}\n",
    "\"\"\"\n",
    "send_slack_message(client=slack_client, channel_id=channel_id, message=slack_message)"
   ]
  },
  {
   "cell_type": "code",
   "execution_count": null,
   "metadata": {},
   "outputs": [],
   "source": []
  }
 ],
 "metadata": {
  "kernelspec": {
   "display_name": "py_tuto",
   "language": "python",
   "name": "python3"
  },
  "language_info": {
   "codemirror_mode": {
    "name": "ipython",
    "version": 3
   },
   "file_extension": ".py",
   "mimetype": "text/x-python",
   "name": "python",
   "nbconvert_exporter": "python",
   "pygments_lexer": "ipython3",
   "version": "3.11.9"
  }
 },
 "nbformat": 4,
 "nbformat_minor": 2
}
