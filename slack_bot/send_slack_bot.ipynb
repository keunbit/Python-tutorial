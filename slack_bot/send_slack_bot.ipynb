{
 "cells": [
  {
   "cell_type": "code",
   "execution_count": 2,
   "metadata": {},
   "outputs": [],
   "source": [
    "import os\n",
    "from dotenv import load_dotenv\n",
    "from slack_sdk import WebClient\n",
    "\n",
    "load_dotenv()\n",
    "\n",
    "client = WebClient(token=os.getenv(\"SLACK_TOKEN\"))\n",
    "channel_id=\"C077GUCPK0B\"\n",
    "\n",
    "response = client.chat_postMessage(channel=channel_id, text=\"안녕하세요!\")"
   ]
  }
 ],
 "metadata": {
  "kernelspec": {
   "display_name": "py_tuto",
   "language": "python",
   "name": "python3"
  },
  "language_info": {
   "codemirror_mode": {
    "name": "ipython",
    "version": 3
   },
   "file_extension": ".py",
   "mimetype": "text/x-python",
   "name": "python",
   "nbconvert_exporter": "python",
   "pygments_lexer": "ipython3",
   "version": "3.11.9"
  }
 },
 "nbformat": 4,
 "nbformat_minor": 2
}
